{
 "cells": [
  {
   "cell_type": "code",
   "execution_count": 2,
   "metadata": {},
   "outputs": [],
   "source": [
    "import praw\n",
    "import pandas as pd\n"
   ]
  },
  {
   "cell_type": "code",
   "execution_count": 3,
   "metadata": {},
   "outputs": [],
   "source": [
    "user_id = \"hereComestheUserID\"\n",
    "secret_key = \"secret\"\n",
    "app_name =\"appName\"\n",
    "userName=\"comesTheUserName\"\n",
    "passwd = \"password\"\n",
    "\n"
   ]
  },
  {
   "cell_type": "code",
   "execution_count": 4,
   "metadata": {},
   "outputs": [],
   "source": [
    "reddit_Connection = praw.Reddit(client_id=user_id,client_secret = secret_key,user_agent=app_name,\n",
    "                               username=userName,\n",
    "                               password=passwd)"
   ]
  },
  {
   "cell_type": "code",
   "execution_count": 5,
   "metadata": {},
   "outputs": [],
   "source": [
    "def getTopSubreddits(topic):\n",
    "    \n",
    "    subreddits= reddit_Connection.subreddit(topic)\n",
    "    top_subreddits = subreddits.top(limit=5)\n",
    "    #type(top_subreddits)\n",
    "    ##dir(next(top_subreddits))\n",
    "    return top_subreddits\n",
    "    "
   ]
  },
  {
   "cell_type": "code",
   "execution_count": 6,
   "metadata": {},
   "outputs": [],
   "source": [
    "def dataToDataframe(subreddit):\n",
    "    data = {\"id\":[],\"comments\":[]}\n",
    "    for subreddit in subreddit:\n",
    "        for comment in subreddit.comments:\n",
    "            if not hasattr(comment, 'body'):\n",
    "                continue\n",
    "            data[\"id\"].append((subreddit.id))\n",
    "            data[\"comments\"].append(comment.body)\n",
    "    df = pd.DataFrame(data, columns= ['id', 'comments'])\n",
    "    return df\n",
    "    "
   ]
  },
  {
   "cell_type": "code",
   "execution_count": 7,
   "metadata": {},
   "outputs": [],
   "source": [
    "subreddit_topics = [\"todayilearned\",\"readnthink\",\"python\",\"covid_civil\",\"TwoXChromosomes\"]"
   ]
  },
  {
   "cell_type": "code",
   "execution_count": 8,
   "metadata": {},
   "outputs": [],
   "source": [
    "dataFrames = []\n",
    "\n",
    "for topic in subreddit_topics:\n",
    "    subreddit = getTopSubreddits(topic)\n",
    "    dataFrame = dataToDataframe(subreddit)\n",
    "    dataFrames.append(dataFrame)\n",
    "    "
   ]
  },
  {
   "cell_type": "code",
   "execution_count": 9,
   "metadata": {},
   "outputs": [],
   "source": [
    "data =  pd.concat(dataFrames)"
   ]
  },
  {
   "cell_type": "code",
   "execution_count": 10,
   "metadata": {},
   "outputs": [
    {
     "data": {
      "text/html": [
       "<div>\n",
       "<style scoped>\n",
       "    .dataframe tbody tr th:only-of-type {\n",
       "        vertical-align: middle;\n",
       "    }\n",
       "\n",
       "    .dataframe tbody tr th {\n",
       "        vertical-align: top;\n",
       "    }\n",
       "\n",
       "    .dataframe thead th {\n",
       "        text-align: right;\n",
       "    }\n",
       "</style>\n",
       "<table border=\"1\" class=\"dataframe\">\n",
       "  <thead>\n",
       "    <tr style=\"text-align: right;\">\n",
       "      <th></th>\n",
       "      <th>id</th>\n",
       "      <th>comments</th>\n",
       "    </tr>\n",
       "  </thead>\n",
       "  <tbody>\n",
       "    <tr>\n",
       "      <th>0</th>\n",
       "      <td>l7does</td>\n",
       "      <td>The 1st Article of the Mexican Constitution st...</td>\n",
       "    </tr>\n",
       "    <tr>\n",
       "      <th>1</th>\n",
       "      <td>l7does</td>\n",
       "      <td>The audacity of being angry that your slave es...</td>\n",
       "    </tr>\n",
       "    <tr>\n",
       "      <th>2</th>\n",
       "      <td>l7does</td>\n",
       "      <td>You know, the more I find out about slavery, t...</td>\n",
       "    </tr>\n",
       "    <tr>\n",
       "      <th>3</th>\n",
       "      <td>l7does</td>\n",
       "      <td>Mexico? More like Mexibro</td>\n",
       "    </tr>\n",
       "    <tr>\n",
       "      <th>4</th>\n",
       "      <td>l7does</td>\n",
       "      <td>Isn't that part of why Jackson essentially sto...</td>\n",
       "    </tr>\n",
       "  </tbody>\n",
       "</table>\n",
       "</div>"
      ],
      "text/plain": [
       "       id                                           comments\n",
       "0  l7does  The 1st Article of the Mexican Constitution st...\n",
       "1  l7does  The audacity of being angry that your slave es...\n",
       "2  l7does  You know, the more I find out about slavery, t...\n",
       "3  l7does                          Mexico? More like Mexibro\n",
       "4  l7does  Isn't that part of why Jackson essentially sto..."
      ]
     },
     "execution_count": 10,
     "metadata": {},
     "output_type": "execute_result"
    }
   ],
   "source": [
    "data.head()"
   ]
  },
  {
   "cell_type": "code",
   "execution_count": 11,
   "metadata": {},
   "outputs": [
    {
     "data": {
      "text/plain": [
       "(1426, 2)"
      ]
     },
     "execution_count": 11,
     "metadata": {},
     "output_type": "execute_result"
    }
   ],
   "source": [
    "data.shape"
   ]
  },
  {
   "cell_type": "code",
   "execution_count": 12,
   "metadata": {},
   "outputs": [],
   "source": [
    "data.to_csv(r'/Users/canselkucukyilmaz/subredditComments.csv', index = False)"
   ]
  },
  {
   "cell_type": "code",
   "execution_count": null,
   "metadata": {},
   "outputs": [],
   "source": []
  },
  {
   "cell_type": "code",
   "execution_count": null,
   "metadata": {},
   "outputs": [],
   "source": []
  }
 ],
 "metadata": {
  "kernelspec": {
   "display_name": "Python 3",
   "language": "python",
   "name": "python3"
  },
  "language_info": {
   "codemirror_mode": {
    "name": "ipython",
    "version": 3
   },
   "file_extension": ".py",
   "mimetype": "text/x-python",
   "name": "python",
   "nbconvert_exporter": "python",
   "pygments_lexer": "ipython3",
   "version": "3.7.3"
  }
 },
 "nbformat": 4,
 "nbformat_minor": 4
}
